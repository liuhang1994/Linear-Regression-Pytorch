{
 "cells": [
  {
   "cell_type": "markdown",
   "metadata": {},
   "source": [
    "# Tensors "
   ]
  },
  {
   "cell_type": "markdown",
   "metadata": {},
   "source": [
    "### Tensors are like ndarrays in numpy "
   ]
  },
  {
   "cell_type": "markdown",
   "metadata": {},
   "source": [
    "### Examples "
   ]
  },
  {
   "cell_type": "code",
   "execution_count": 8,
   "metadata": {},
   "outputs": [],
   "source": [
    "# import libraries\n",
    "from __future__ import print_function\n",
    "import numpy as np \n",
    "import torch "
   ]
  },
  {
   "cell_type": "markdown",
   "metadata": {},
   "source": [
    "#### <font color='red'>Create ndarray in numpy</font> "
   ]
  },
  {
   "cell_type": "code",
   "execution_count": 6,
   "metadata": {},
   "outputs": [
    {
     "name": "stdout",
     "output_type": "stream",
     "text": [
      "[2.  3.3]\n",
      "<class 'numpy.ndarray'>\n"
     ]
    }
   ],
   "source": [
    "x_np = np.array([2.0,3.3])\n",
    "print(x_np)\n",
    "print(type(x_np))"
   ]
  },
  {
   "cell_type": "markdown",
   "metadata": {},
   "source": [
    "#### Create tensors in pytorch "
   ]
  },
  {
   "cell_type": "code",
   "execution_count": 9,
   "metadata": {},
   "outputs": [
    {
     "name": "stdout",
     "output_type": "stream",
     "text": [
      "tensor([2.0000, 3.3000])\n",
      "<class 'torch.Tensor'>\n"
     ]
    }
   ],
   "source": [
    "x_to = torch.tensor([2.0,3.3])\n",
    "print(x_to)\n",
    "print(type(x_to))"
   ]
  },
  {
   "cell_type": "markdown",
   "metadata": {},
   "source": [
    "#### Similarly everyone can create zeros, ones or random  arrays(tensors) with torch "
   ]
  },
  {
   "cell_type": "code",
   "execution_count": 12,
   "metadata": {},
   "outputs": [
    {
     "name": "stdout",
     "output_type": "stream",
     "text": [
      "Zeros tensor:\n",
      "tensor([[0., 0., 0.],\n",
      "        [0., 0., 0.]])\n",
      "Ones tensor:\n",
      "tensor([[1., 1., 1.],\n",
      "        [1., 1., 1.]])\n",
      "Random tensor:\n",
      "tensor([[0.7964, 0.3238, 0.7038],\n",
      "        [0.4145, 0.6777, 0.6585]])\n"
     ]
    }
   ],
   "source": [
    "# tensor with 2 dimensions (2*3) zero values\n",
    "x_zeros = torch.zeros(2,3)\n",
    "# x_z = np.zeros (2,3) # numpy based zeros ndarray \n",
    "\n",
    "# tensor with 2 dimension (2*3) ones value\n",
    "x_ones = torch.ones(2,3)\n",
    "# x_ones = np.ones(2,3) # numpy based ones ndarray\n",
    "\n",
    "#tensor with 2 dimension (2*3) random values\n",
    "x_rands = torch.rand(2,3)\n",
    "# x_rands = np.rand(2,3)\n",
    "\n",
    "#print corresponding tensors\n",
    "\n",
    "print('Zeros tensor:')\n",
    "print(x_zeros)\n",
    "\n",
    "print('Ones tensor:')\n",
    "print(x_ones)\n",
    "\n",
    "print('Random tensor:')\n",
    "print(x_rands)"
   ]
  },
  {
   "cell_type": "markdown",
   "metadata": {},
   "source": [
    "### Access to a tensor values is similar to numpy "
   ]
  },
  {
   "cell_type": "code",
   "execution_count": 16,
   "metadata": {},
   "outputs": [
    {
     "name": "stdout",
     "output_type": "stream",
     "text": [
      "Whole random matrix:\n",
      " tensor([[0.6836, 0.4058, 0.9919, 0.1835],\n",
      "        [0.1013, 0.3999, 0.1868, 0.7099],\n",
      "        [0.8660, 0.4495, 0.9993, 0.3273]])\n",
      "\n",
      "Second row:\n",
      " tensor([0.1013, 0.3999, 0.1868, 0.7099])\n",
      "\n",
      "Third column:\n",
      " tensor([0.9919, 0.1868, 0.9993])\n"
     ]
    }
   ],
   "source": [
    "x_r = torch.rand(3,4)\n",
    "row2 = x_r[1,:] # get the second row in x_r\n",
    "col3 = x_r[:,2] # get the third column in x_r \n",
    "print('Whole random matrix:\\n',x_r)\n",
    "print('\\nSecond row:\\n',row2)\n",
    "print('\\nThird column:\\n',col3)\n",
    "\n",
    "# Same operation in numpy \n",
    "#x_r = np.rand(3,4)\n",
    "#row2 = x_r[1,:] # get the second row in x_r\n",
    "#col3 = x_r[:,2] # get the third column in x_r "
   ]
  },
  {
   "cell_type": "markdown",
   "metadata": {},
   "source": [
    "#### In order to <font color='red'> resize </font>a tesnsor use view function  Instead of reshape in numpy"
   ]
  },
  {
   "cell_type": "code",
   "execution_count": 17,
   "metadata": {},
   "outputs": [
    {
     "name": "stdout",
     "output_type": "stream",
     "text": [
      "torch.Size([8, 4]) torch.Size([32]) torch.Size([2, 16])\n"
     ]
    }
   ],
   "source": [
    "x_rn = torch.randn(8,4)\n",
    "x_rn2 = x_rn.view(32)\n",
    "x_rn3 = x_rn.view(-1,16) # it generate a 2 * 16 tensor (-1 allows torch to compute another dim automatically)\n",
    "\n",
    "print(x_rn.size(), x_rn2.size(), x_rn3.size())"
   ]
  },
  {
   "cell_type": "markdown",
   "metadata": {},
   "source": [
    "#### Example : Adding two tensors "
   ]
  },
  {
   "cell_type": "code",
   "execution_count": 21,
   "metadata": {},
   "outputs": [
    {
     "name": "stdout",
     "output_type": "stream",
     "text": [
      "tensor([[-0.3841,  3.8452,  3.2145],\n",
      "        [ 2.1209,  3.4965,  5.4372]])\n",
      "tensor([[-0.3841,  3.8452,  3.2145],\n",
      "        [ 2.1209,  3.4965,  5.4372]])\n"
     ]
    }
   ],
   "source": [
    "a = torch.tensor([[1,2,3],[4,5,6]],dtype=torch.float)\n",
    "b = torch.randn(2,3)\n",
    "c = a+b \n",
    "print(c)\n",
    "\n",
    "#you can also do an inplace add operation like the following code\n",
    "print(a.add(b))"
   ]
  },
  {
   "cell_type": "markdown",
   "metadata": {},
   "source": [
    "\n",
    "\n",
    "## Some Other Useful Functions "
   ]
  },
  {
   "cell_type": "markdown",
   "metadata": {},
   "source": [
    "numel()  : Get <font color='red'>Number of Elements</font> for a tensor "
   ]
  },
  {
   "cell_type": "code",
   "execution_count": 24,
   "metadata": {},
   "outputs": [
    {
     "name": "stdout",
     "output_type": "stream",
     "text": [
      "Tensor :\n",
      " tensor([[6., 3., 5., 3.],\n",
      "        [5., 2., 6., 1.],\n",
      "        [3., 4., 6., 3.]])\n",
      "Number of elements:\n",
      " 12\n"
     ]
    }
   ],
   "source": [
    "x1= torch.randint(1,10,(3,4)) # create a 3*4 random tensor with integer numbers among 1 to 10 \n",
    "print('Tensor :\\n',x1)\n",
    "print('Number of elements:\\n',torch.numel(x1))"
   ]
  },
  {
   "cell_type": "raw",
   "metadata": {},
   "source": [
    "\n",
    "\n",
    "from_numpy(): convert numpy data with same shape in torch tensor"
   ]
  },
  {
   "cell_type": "code",
   "execution_count": 25,
   "metadata": {},
   "outputs": [
    {
     "name": "stdout",
     "output_type": "stream",
     "text": [
      "numpy array:\n",
      " [[1 2]\n",
      " [3 4]]  type: <class 'numpy.ndarray'>\n",
      "\n",
      "torch tensor:\n",
      " tensor([[1, 2],\n",
      "        [3, 4]])   type: <class 'torch.Tensor'>\n"
     ]
    }
   ],
   "source": [
    "x_np1 = np.array([[1,2],[3,4]])\n",
    "\n",
    "x_to1 = torch.from_numpy(x_np1)\n",
    "\n",
    "print('numpy array:\\n',x_np1,' type:',type(x_np1))\n",
    "print('\\ntorch tensor:\\n',x_to1,'  type:',type(x_to1))\n"
   ]
  },
  {
   "cell_type": "raw",
   "metadata": {},
   "source": [
    "\n",
    "arange(start , end , step_size): create a range of numbers between start and end  by adding step_size in each step. It does not include end number(  [start,end) ). "
   ]
  },
  {
   "cell_type": "code",
   "execution_count": 28,
   "metadata": {},
   "outputs": [
    {
     "name": "stdout",
     "output_type": "stream",
     "text": [
      "tensor([1.0000, 1.5000, 2.0000, 2.5000, 3.0000, 3.5000])\n"
     ]
    }
   ],
   "source": [
    "odr_nums = torch.arange(1,4, 0.5)\n",
    "print(odr_nums)"
   ]
  },
  {
   "cell_type": "raw",
   "metadata": {},
   "source": [
    "\n",
    "linespace(start , end , steps) : create #steps numbers between start and end  "
   ]
  },
  {
   "cell_type": "code",
   "execution_count": 29,
   "metadata": {},
   "outputs": [
    {
     "name": "stdout",
     "output_type": "stream",
     "text": [
      "tensor([ 2.0000,  2.4211,  2.8421,  3.2632,  3.6842,  4.1053,  4.5263,  4.9474,\n",
      "         5.3684,  5.7895,  6.2105,  6.6316,  7.0526,  7.4737,  7.8947,  8.3158,\n",
      "         8.7368,  9.1579,  9.5789, 10.0000])\n"
     ]
    }
   ],
   "source": [
    "ls_nums = torch.linspace(2, 10 , 20) # return 20 numbers between 2 and 10 ( [2,10])\n",
    "print(ls_nums)"
   ]
  },
  {
   "cell_type": "raw",
   "metadata": {},
   "source": [
    "\n",
    "\n",
    "full((tensor_size), k) return a tensor of size tensor_size filled all elements by k"
   ]
  },
  {
   "cell_type": "code",
   "execution_count": 30,
   "metadata": {},
   "outputs": [
    {
     "name": "stdout",
     "output_type": "stream",
     "text": [
      "tensor([[1.7500, 1.7500, 1.7500],\n",
      "        [1.7500, 1.7500, 1.7500]])\n"
     ]
    }
   ],
   "source": [
    "a1 = torch.full((2,3),1.75)\n",
    "print(a1)"
   ]
  },
  {
   "cell_type": "raw",
   "metadata": {},
   "source": [
    "\n",
    "squeez(): eliminate dimensons by size 1"
   ]
  },
  {
   "cell_type": "code",
   "execution_count": 32,
   "metadata": {},
   "outputs": [
    {
     "name": "stdout",
     "output_type": "stream",
     "text": [
      "orginal tensor size: torch.Size([1, 2, 1, 3])   squeezed tensor size: torch.Size([2, 3])\n"
     ]
    }
   ],
   "source": [
    "x1 = torch.zeros(1,2,1,3)\n",
    "x2 = torch.squeeze(x1)\n",
    "print('orginal tensor size:',x1.size(), '  squeezed tensor size:' , x2.size())"
   ]
  },
  {
   "cell_type": "raw",
   "metadata": {},
   "source": [
    "\n",
    "\n",
    "t(): transpose a 2d dimension tensor"
   ]
  },
  {
   "cell_type": "code",
   "execution_count": 34,
   "metadata": {},
   "outputs": [
    {
     "name": "stdout",
     "output_type": "stream",
     "text": [
      "original tensor:\n",
      " tensor([[1, 2, 3],\n",
      "        [4, 5, 6]])\n",
      "transposed tensor:\n",
      " tensor([[1, 4],\n",
      "        [2, 5],\n",
      "        [3, 6]])\n"
     ]
    }
   ],
   "source": [
    "x3 = torch.tensor([[1,2,3],[4,5,6]])\n",
    "tr_x3 = torch.t(x3)\n",
    "\n",
    "print('original tensor:\\n',x3)\n",
    "print('transposed tensor:\\n',tr_x3)"
   ]
  },
  {
   "cell_type": "code",
   "execution_count": null,
   "metadata": {},
   "outputs": [],
   "source": []
  }
 ],
 "metadata": {
  "kernelspec": {
   "display_name": "Python 3",
   "language": "python",
   "name": "python3"
  },
  "language_info": {
   "codemirror_mode": {
    "name": "ipython",
    "version": 3
   },
   "file_extension": ".py",
   "mimetype": "text/x-python",
   "name": "python",
   "nbconvert_exporter": "python",
   "pygments_lexer": "ipython3",
   "version": "3.6.5"
  }
 },
 "nbformat": 4,
 "nbformat_minor": 2
}
